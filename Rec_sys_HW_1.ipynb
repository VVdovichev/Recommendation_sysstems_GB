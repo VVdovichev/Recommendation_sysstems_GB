{
  "nbformat": 4,
  "nbformat_minor": 0,
  "metadata": {
    "colab": {
      "name": "Rec_sys_HW_1.ipynb",
      "provenance": [],
      "collapsed_sections": []
    },
    "kernelspec": {
      "name": "python3",
      "display_name": "Python 3"
    },
    "language_info": {
      "name": "python"
    }
  },
  "cells": [
    {
      "cell_type": "code",
      "execution_count": null,
      "metadata": {
        "id": "zz02pgI_GiW_"
      },
      "outputs": [],
      "source": [
        "import numpy as np\n",
        "import pandas as pd\n",
        "\n",
        "import torch\n",
        "\n",
        "import math"
      ]
    },
    {
      "cell_type": "markdown",
      "source": [
        "##__1.__ hit rate at k"
      ],
      "metadata": {
        "id": "3NI1ky1UJ4xs"
      }
    },
    {
      "cell_type": "code",
      "source": [
        "recommended_list = [143, 156, 1134, 991, 27, 1543, 3345, 533, 11, 43] #id товаров\n",
        "bought_list = [521, 32, 143, 991]"
      ],
      "metadata": {
        "id": "nckyowa-JztP"
      },
      "execution_count": null,
      "outputs": []
    },
    {
      "cell_type": "code",
      "source": [
        "len(recommended_list)"
      ],
      "metadata": {
        "colab": {
          "base_uri": "https://localhost:8080/"
        },
        "id": "Rns0FjtIMWN7",
        "outputId": "5739d493-6682-4df3-d86c-fce3580f3b47"
      },
      "execution_count": null,
      "outputs": [
        {
          "output_type": "execute_result",
          "data": {
            "text/plain": [
              "10"
            ]
          },
          "metadata": {},
          "execution_count": 38
        }
      ]
    },
    {
      "cell_type": "code",
      "source": [
        "def hit_rate_at_k(recommended_list, bought_list, k=5):\n",
        "    \n",
        "    bought_list = np.array(bought_list)\n",
        "    recommended_list = np.array(recommended_list[:k])\n",
        "    \n",
        "    flags = np.isin(bought_list, recommended_list)\n",
        "    \n",
        "    hit_rate = int(flags.sum() > 0) * 1\n",
        "    \n",
        "    return hit_rate"
      ],
      "metadata": {
        "id": "eyru9t3KMYlt"
      },
      "execution_count": null,
      "outputs": []
    },
    {
      "cell_type": "code",
      "source": [
        "hit_rate_at_k(recommended_list, bought_list)"
      ],
      "metadata": {
        "colab": {
          "base_uri": "https://localhost:8080/"
        },
        "id": "M2U59hr0MqDH",
        "outputId": "3bbe24e9-199f-4d2f-b36b-2282174b7809"
      },
      "execution_count": null,
      "outputs": [
        {
          "output_type": "execute_result",
          "data": {
            "text/plain": [
              "1"
            ]
          },
          "metadata": {},
          "execution_count": 40
        }
      ]
    },
    {
      "cell_type": "markdown",
      "source": [
        "##__2.__ money_precision_at_k"
      ],
      "metadata": {
        "id": "gOh5UxJgM4wU"
      }
    },
    {
      "cell_type": "code",
      "source": [
        "prices_recommended = np.random.randint(0, 1000, len(recommended_list))\n",
        "prices_recommended"
      ],
      "metadata": {
        "colab": {
          "base_uri": "https://localhost:8080/"
        },
        "id": "Zce6OcsSSn5Z",
        "outputId": "7971e31b-0f42-43c9-bc95-82333961cccc"
      },
      "execution_count": null,
      "outputs": [
        {
          "output_type": "execute_result",
          "data": {
            "text/plain": [
              "array([ 69,   0,  81, 284, 540, 845, 528, 583, 244, 285])"
            ]
          },
          "metadata": {},
          "execution_count": 41
        }
      ]
    },
    {
      "cell_type": "code",
      "source": [
        "def money_precision_at_k(recommended_list, bought_list, prices_recommended, k=5):\n",
        "\n",
        "    bought_list = np.array(bought_list)\n",
        "    recommended_list = np.array(recommended_list[:k])\n",
        "    prices_recommended = np.array(prices_recommended[:k])\n",
        "    \n",
        "    flags = np.isin(recommended_list, bought_list)\n",
        "    \n",
        "    precision = (prices_recommended @ flags) / prices_recommended.sum()   \n",
        "    \n",
        "    return precision"
      ],
      "metadata": {
        "id": "OzhnB41MMxAx"
      },
      "execution_count": null,
      "outputs": []
    },
    {
      "cell_type": "code",
      "source": [
        "money_precision_at_k(recommended_list, bought_list, prices_recommended, k=5)"
      ],
      "metadata": {
        "colab": {
          "base_uri": "https://localhost:8080/"
        },
        "id": "DbmkM_8cUARW",
        "outputId": "636f2906-2706-4ee9-f0e7-751a4f7274ae"
      },
      "execution_count": null,
      "outputs": [
        {
          "output_type": "execute_result",
          "data": {
            "text/plain": [
              "0.3624229979466119"
            ]
          },
          "metadata": {},
          "execution_count": 43
        }
      ]
    },
    {
      "cell_type": "markdown",
      "source": [
        "##__3.__ recall_at_k"
      ],
      "metadata": {
        "id": "LVmbBnreXD0d"
      }
    },
    {
      "cell_type": "code",
      "source": [
        "def recall(recommended_list, bought_list):\n",
        "    \n",
        "    bought_list = np.array(bought_list)\n",
        "    recommended_list = np.array(recommended_list)\n",
        "    \n",
        "    flags = np.isin(bought_list, recommended_list)\n",
        "    \n",
        "    recall = flags.sum() / len(bought_list)\n",
        "    \n",
        "    return recall"
      ],
      "metadata": {
        "id": "afdjsqOeUDFn"
      },
      "execution_count": null,
      "outputs": []
    },
    {
      "cell_type": "code",
      "source": [
        "def recall_at_k(recommended_list, bought_list, k=5):\n",
        "    \n",
        "    bought_list = np.array(bought_list)\n",
        "    recommended_list = np.array(recommended_list[:5])\n",
        "    \n",
        "    flags = np.isin(bought_list, recommended_list)\n",
        "    \n",
        "    recall = flags.sum() / len(bought_list)\n",
        "    \n",
        "    return recall"
      ],
      "metadata": {
        "id": "mxXVkFE7X2Ht"
      },
      "execution_count": null,
      "outputs": []
    },
    {
      "cell_type": "code",
      "source": [
        "recall_at_k(recommended_list, bought_list, k=5)"
      ],
      "metadata": {
        "colab": {
          "base_uri": "https://localhost:8080/"
        },
        "id": "sESr82OYZui0",
        "outputId": "bf7d5213-1b20-4c62-fa20-dc85050d6be1"
      },
      "execution_count": null,
      "outputs": [
        {
          "output_type": "execute_result",
          "data": {
            "text/plain": [
              "0.5"
            ]
          },
          "metadata": {},
          "execution_count": 46
        }
      ]
    },
    {
      "cell_type": "markdown",
      "source": [
        "##__4.__ money_recall_at_k"
      ],
      "metadata": {
        "id": "1ZeQlDyLZvwv"
      }
    },
    {
      "cell_type": "code",
      "source": [
        "prices_bought = np.random.randint(0, 1000, len(bought_list))\n",
        "prices_bought"
      ],
      "metadata": {
        "colab": {
          "base_uri": "https://localhost:8080/"
        },
        "id": "utxhRmS_YJBq",
        "outputId": "6d122286-afda-45d3-d4c6-91281ef1e6e9"
      },
      "execution_count": null,
      "outputs": [
        {
          "output_type": "execute_result",
          "data": {
            "text/plain": [
              "array([287, 888, 403, 609])"
            ]
          },
          "metadata": {},
          "execution_count": 47
        }
      ]
    },
    {
      "cell_type": "code",
      "source": [
        "def money_recall_at_k(recommended_list, bought_list, prices_recommended, prices_bought, k=5):\n",
        "    \n",
        "    bought_list = np.array(bought_list)\n",
        "    recommended_list = np.array(recommended_list[:5])\n",
        "    prices_recommended = np.array(prices_recommended[:k])\n",
        "    prices_bought = np.array(prices_bought)\n",
        "    \n",
        "    flags = np.isin(recommended_list, bought_list)\n",
        "\n",
        "    recall = (flags @ prices_recommended) / prices_bought.sum()\n",
        "\n",
        "    return recall"
      ],
      "metadata": {
        "id": "ktKYqwr4X3DD"
      },
      "execution_count": null,
      "outputs": []
    },
    {
      "cell_type": "code",
      "source": [
        "money_recall_at_k(recommended_list, bought_list, prices_recommended, prices_bought, k=5)"
      ],
      "metadata": {
        "colab": {
          "base_uri": "https://localhost:8080/"
        },
        "id": "BEzp-kO1ZWz1",
        "outputId": "d5a30c14-2673-4dce-b5b7-c75efaf3a980"
      },
      "execution_count": null,
      "outputs": [
        {
          "output_type": "execute_result",
          "data": {
            "text/plain": [
              "0.16140832190214907"
            ]
          },
          "metadata": {},
          "execution_count": 49
        }
      ]
    },
    {
      "cell_type": "markdown",
      "source": [
        "##__5.__ map@k"
      ],
      "metadata": {
        "id": "wbUte_ilZoMJ"
      }
    },
    {
      "cell_type": "code",
      "source": [
        "recommended_list = [[143, 156, 1134, 991, 27, 1543, 3345, 533, 11, 43],\n",
        "                    [146, 156, 1134, 991, 27, 1543, 3345, 533, 11, 43],] #id товаров\n",
        "bought_list = [[521, 32, 143, 991], [146, 29]]"
      ],
      "metadata": {
        "id": "j9M5l4fdZZf-"
      },
      "execution_count": null,
      "outputs": []
    },
    {
      "cell_type": "code",
      "source": [
        "def precision_at_k(recommended_list, bought_list, k=5):\n",
        "    \n",
        "    bought_list = np.array(bought_list)\n",
        "    recommended_list = np.array(recommended_list)\n",
        "    \n",
        "    bought_list = bought_list\n",
        "    recommended_list = recommended_list[:k]\n",
        "    \n",
        "    flags = np.isin(bought_list, recommended_list)\n",
        "    \n",
        "    precision = flags.sum() / len(recommended_list)\n",
        "    \n",
        "    \n",
        "    return precision"
      ],
      "metadata": {
        "id": "t28sUryCb_p-"
      },
      "execution_count": null,
      "outputs": []
    },
    {
      "cell_type": "code",
      "source": [
        "def ap_k(recommended_list, bought_list, k=5):\n",
        "    \n",
        "    bought_list = np.array(bought_list)\n",
        "    recommended_list = np.array(recommended_list)\n",
        "    \n",
        "    flags = np.isin(recommended_list, bought_list)\n",
        "    \n",
        "    if sum(flags) == 0:\n",
        "        return 0\n",
        "    \n",
        "    sum_ = 0\n",
        "    for i in range(0, k-1):\n",
        "        if flags[i] == True:\n",
        "            p_k = precision_at_k(recommended_list, bought_list, k=i+1)\n",
        "            sum_ += p_k\n",
        "            \n",
        "    result = sum_ / sum(flags)\n",
        "    \n",
        "    return result"
      ],
      "metadata": {
        "id": "ZLFnk0GpbtJV"
      },
      "execution_count": null,
      "outputs": []
    },
    {
      "cell_type": "code",
      "source": [
        "def map_k(recommended_list, bought_list, k=5, u=1):\n",
        "    \n",
        "    u = len(recommended_list)\n",
        "    \n",
        "    sum = 0\n",
        "    \n",
        "    for i in range(u):\n",
        "        sum += ap_k(recommended_list[i], bought_list[i], k)\n",
        "    \n",
        "    sum /= u\n",
        "    \n",
        "    return sum"
      ],
      "metadata": {
        "id": "4xnTdlmLbJOK"
      },
      "execution_count": null,
      "outputs": []
    },
    {
      "cell_type": "code",
      "source": [
        "map_k(recommended_list, bought_list, k=5, u=1)"
      ],
      "metadata": {
        "colab": {
          "base_uri": "https://localhost:8080/"
        },
        "id": "iSKK-YKLcB69",
        "outputId": "56d8dcb3-1d86-46bc-dd84-9ec4bea9ecdd"
      },
      "execution_count": null,
      "outputs": [
        {
          "output_type": "execute_result",
          "data": {
            "text/plain": [
              "0.875"
            ]
          },
          "metadata": {},
          "execution_count": 54
        }
      ]
    },
    {
      "cell_type": "markdown",
      "source": [
        "##__7.__ * NDCG@k - для оценок пользователей (1-3) по учебному примеру из лекции (можно не в pyTorch, а в Numpy - в лекции пример массивов)"
      ],
      "metadata": {
        "id": "KVaq_ff9hA3M"
      }
    },
    {
      "cell_type": "code",
      "source": [
        "N = 5\n",
        "ys_true = torch.randint(0, 5, (N, ))\n",
        "ys_pred = torch.rand(N)"
      ],
      "metadata": {
        "id": "HEii8aVZhMIR"
      },
      "execution_count": null,
      "outputs": []
    },
    {
      "cell_type": "code",
      "source": [
        "ys_true"
      ],
      "metadata": {
        "colab": {
          "base_uri": "https://localhost:8080/"
        },
        "id": "2c73uh-ThNUY",
        "outputId": "745bb857-1a5d-4aba-b896-7b764664ed95"
      },
      "execution_count": null,
      "outputs": [
        {
          "output_type": "execute_result",
          "data": {
            "text/plain": [
              "tensor([2, 3, 2, 2, 1])"
            ]
          },
          "metadata": {},
          "execution_count": 57
        }
      ]
    },
    {
      "cell_type": "code",
      "source": [
        "ys_pred"
      ],
      "metadata": {
        "colab": {
          "base_uri": "https://localhost:8080/"
        },
        "id": "yU1P0EaQhP0p",
        "outputId": "fc9f1109-9f45-4915-da23-63c492c33809"
      },
      "execution_count": null,
      "outputs": [
        {
          "output_type": "execute_result",
          "data": {
            "text/plain": [
              "tensor([0.3806, 0.7246, 0.2737, 0.8824, 0.2433])"
            ]
          },
          "metadata": {},
          "execution_count": 58
        }
      ]
    },
    {
      "cell_type": "code",
      "source": [
        "# итоговый результат модели - отсортированный ys_pred\n",
        "ys_pred"
      ],
      "metadata": {
        "colab": {
          "base_uri": "https://localhost:8080/"
        },
        "id": "OGqTEJwphVLR",
        "outputId": "9b78e87a-91d2-43c0-d12c-6f441e1f3e69"
      },
      "execution_count": null,
      "outputs": [
        {
          "output_type": "execute_result",
          "data": {
            "text/plain": [
              "tensor([0.3806, 0.7246, 0.2737, 0.8824, 0.2433])"
            ]
          },
          "metadata": {},
          "execution_count": 59
        }
      ]
    },
    {
      "cell_type": "code",
      "source": [
        "torch.sort(ys_pred, descending=True, dim=0)"
      ],
      "metadata": {
        "colab": {
          "base_uri": "https://localhost:8080/"
        },
        "id": "eN0EmKpzlF1y",
        "outputId": "eaac1e3a-e74d-4987-843b-cfcc9f7c4764"
      },
      "execution_count": null,
      "outputs": [
        {
          "output_type": "execute_result",
          "data": {
            "text/plain": [
              "torch.return_types.sort(values=tensor([0.8824, 0.7246, 0.3806, 0.2737, 0.2433]), indices=tensor([3, 1, 0, 2, 4]))"
            ]
          },
          "metadata": {},
          "execution_count": 60
        }
      ]
    },
    {
      "cell_type": "code",
      "source": [
        "def compute_gain(y_value: float, gain_scheme: str) -> float:\n",
        "    if gain_scheme == \"exp2\":\n",
        "        gain = 2 ** y_value - 1\n",
        "    elif gain_scheme == \"const\":\n",
        "        gain = y_value\n",
        "    else:\n",
        "        raise ValueError(f\"{gain_scheme} method not supported, only exp2 and const.\")\n",
        "    return float(gain)"
      ],
      "metadata": {
        "id": "dCEgJTv-hDK6"
      },
      "execution_count": null,
      "outputs": []
    },
    {
      "cell_type": "code",
      "source": [
        "def dcg(ys_true: torch.Tensor, ys_pred: torch.Tensor, gain_scheme: str) -> float:\n",
        "    _, argsort = torch.sort(ys_pred, descending=True, dim=0)\n",
        "    ys_true_sorted = ys_true[argsort]\n",
        "    ret = 0\n",
        "    for idx, cur_y in enumerate(ys_true_sorted, 1):\n",
        "        gain = compute_gain(cur_y, gain_scheme)\n",
        "        if idx > 2:\n",
        "            gain /= math.log2(idx)\n",
        "        \n",
        "        ret += gain\n",
        "    \n",
        "    ret /= len(ys_true)\n",
        "    return ret"
      ],
      "metadata": {
        "id": "SbFZbCvqlPlh"
      },
      "execution_count": null,
      "outputs": []
    },
    {
      "cell_type": "code",
      "source": [
        "dcg(ys_true, ys_pred, \"exp2\")"
      ],
      "metadata": {
        "colab": {
          "base_uri": "https://localhost:8080/"
        },
        "id": "XLqkBR9ulq7c",
        "outputId": "e37c868e-312e-4213-ee22-6e1a88d94eb9"
      },
      "execution_count": null,
      "outputs": [
        {
          "output_type": "execute_result",
          "data": {
            "text/plain": [
              "2.7646931637575536"
            ]
          },
          "metadata": {},
          "execution_count": 63
        }
      ]
    },
    {
      "cell_type": "code",
      "source": [
        "dcg(ys_true, ys_pred, \"const\")"
      ],
      "metadata": {
        "colab": {
          "base_uri": "https://localhost:8080/"
        },
        "id": "0BfV-1q2l3Bt",
        "outputId": "a00810c1-b181-428e-fc49-0f789a943f9f"
      },
      "execution_count": null,
      "outputs": [
        {
          "output_type": "execute_result",
          "data": {
            "text/plain": [
              "1.5385072130432618"
            ]
          },
          "metadata": {},
          "execution_count": 64
        }
      ]
    }
  ]
}